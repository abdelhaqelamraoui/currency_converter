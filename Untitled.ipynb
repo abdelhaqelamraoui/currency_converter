{
 "cells": [
  {
   "cell_type": "code",
   "execution_count": 22,
   "id": "250eeb5f-5053-42e7-9b23-448c36d7bb72",
   "metadata": {},
   "outputs": [
    {
     "name": "stdin",
     "output_type": "stream",
     "text": [
      "Amount :  1\n",
      "From   :  usd\n",
      "To     :  mad\n"
     ]
    },
    {
     "name": "stdout",
     "output_type": "stream",
     "text": [
      "1 usd = None mad\n"
     ]
    },
    {
     "name": "stderr",
     "output_type": "stream",
     "text": [
      "No internet connection !\n"
     ]
    }
   ],
   "source": [
    "\n",
    "import requests\n",
    "from sys import stderr\n",
    "\n",
    "def dollor_converter(amount, from_currency, to_currency):\n",
    "\ttry:\n",
    "\t\tlink = \"https://open.er-api.com/v6/latest/USD\"\n",
    "\t\tjson_data = requests.get(link).json()\n",
    "\t\trates_data = json_data[\"rates\"]\n",
    "\texcept Exception:\n",
    "\t\tprint(\"No internet connection !\", file=stderr)\n",
    "\t\treturn None\n",
    "\telse:\n",
    "\t\tif(from_currency.upper() != \"USD\"):\n",
    "\t\t\tres = amount / rates_data[from_currency.upper()]\n",
    "\t\tres = amount * rates_data[to_currency.upper()]\n",
    "\t\treturn round(res, 4)\n",
    "\t\n",
    "\n",
    "amount = int(input(\"Amount : \"))\n",
    "from_currency = input(\"From   : \")\n",
    "to_currency = input(\"To     : \")\n",
    "\n",
    "res = dollor_converter(amount, from_currency, to_currency)\n",
    "\n",
    "print(\"{} {} = {} {}\".format(amount, from_currency, res, to_currency))\n",
    "\n"
   ]
  },
  {
   "cell_type": "code",
   "execution_count": 21,
   "id": "3ccfe82c-7a8e-4bea-ab3f-470053001330",
   "metadata": {},
   "outputs": [
    {
     "name": "stdin",
     "output_type": "stream",
     "text": [
      "enter amount :  1\n",
      "enter currency :  USD\n",
      "enter currency :  MAD\n"
     ]
    },
    {
     "name": "stdout",
     "output_type": "stream",
     "text": [
      "1 MAD 0.1116 USD\n"
     ]
    }
   ],
   "source": [
    "\n",
    "\n",
    "import requests\n",
    "\n",
    "def convertor(from_currency,to_currency,amount):\n",
    "\tlink=\"https://open.er-api.com/v6/latest/USD\"\n",
    "\treq=requests.get(link).json()\n",
    "\trates_data=req['rates']\n",
    "\tif from_currency != 'USD':\n",
    "\t\tamount = amount / rates_data[from_currency] \n",
    "        \n",
    "\tamount=round(amount *rates_data[to_currency], 4)\n",
    "\treturn amount\n",
    "\n",
    "amount=int(input('enter amount : '))\n",
    "to_currency=input('enter currency : ')\n",
    "from_currency=input('enter currency : ')\n",
    "print(str(amount),str(from_currency), convertor(from_currency,to_currency,amount),str(to_currency))"
   ]
  },
  {
   "cell_type": "code",
   "execution_count": null,
   "id": "5e1f0d8f-a2a8-45a2-a507-42bdd213795a",
   "metadata": {},
   "outputs": [],
   "source": []
  }
 ],
 "metadata": {
  "kernelspec": {
   "display_name": "Python 3",
   "language": "python",
   "name": "python3"
  },
  "language_info": {
   "codemirror_mode": {
    "name": "ipython",
    "version": 3
   },
   "file_extension": ".py",
   "mimetype": "text/x-python",
   "name": "python",
   "nbconvert_exporter": "python",
   "pygments_lexer": "ipython3",
   "version": "3.6.9"
  }
 },
 "nbformat": 4,
 "nbformat_minor": 5
}
